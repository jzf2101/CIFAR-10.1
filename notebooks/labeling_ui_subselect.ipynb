{
 "cells": [
  {
   "cell_type": "markdown",
   "metadata": {},
   "source": [
    "# Subselect new labeled indices\n",
    "\n",
    "This notebook allows a second person to confirm the initial labelings and subselect a pool of labeled TinyImage indices.\n"
   ]
  },
  {
   "cell_type": "code",
   "execution_count": 8,
   "metadata": {
    "scrolled": true
   },
   "outputs": [
    {
     "name": "stdout",
     "output_type": "stream",
     "text": [
      "The autoreload extension is already loaded. To reload it, use:\n",
      "  %reload_ext autoreload\n",
      "Loading distances from file /Users/becca/git/CIFAR-10.1/other_data/tinyimage_cifar10_distances_v7.json\n",
      "Loading keywords from file /Users/becca/git/CIFAR-10.1/other_data/cifar10_keywords_unique_v7.json\n",
      "Loading indices from file /Users/becca/git/CIFAR-10.1/other_data/tinyimage_subset_indices_v7.json\n",
      "Loading image data from file /Users/becca/git/CIFAR-10.1/other_data/tinyimage_subset_data_v7.pickle\n"
     ]
    }
   ],
   "source": [
    "%load_ext autoreload\n",
    "%autoreload 2\n",
    "\n",
    "import io\n",
    "import json\n",
    "import math\n",
    "import pickle\n",
    "import random\n",
    "import os\n",
    "import sys\n",
    "\n",
    "from IPython.display import display\n",
    "from ipywidgets import widgets\n",
    "from pathlib import Path\n",
    "import numpy as np\n",
    "import PIL.Image\n",
    "import tqdm\n",
    "\n",
    "repo_root = os.path.join(os.getcwd(), '../code')\n",
    "sys.path.append(repo_root)\n",
    "import utils\n",
    "import cifar10\n",
    "\n",
    "cifar = cifar10.CIFAR10Data('../other_data/cifar10/')\n",
    "\n",
    "version_string='v7'\n",
    "distances = utils.load_distances_to_cifar10(version_string)\n",
    "cifar10_by_keyword = utils.load_cifar10_by_keyword(unique_keywords=True, version_string=version_string)\n",
    "all_new_imgs, img_data = utils.load_tinyimage_subset(version_string=version_string)\n",
    "\n",
    "with open('../other_data/keyword_counts_{}.json'.format(version_string), 'r') as f:\n",
    "    keyword_counts = json.load(f)"
   ]
  },
  {
   "cell_type": "markdown",
   "metadata": {},
   "source": [
    "## New labeled images\n",
    "Load initial pool of labeled indicies for given label and keyword"
   ]
  },
  {
   "cell_type": "code",
   "execution_count": 18,
   "metadata": {},
   "outputs": [
    {
     "name": "stdout",
     "output_type": "stream",
     "text": [
      "Keyword \"felis_domesticus\" has 373 images in CIFAR-10 and 697 unused images remaining in TinyImages.\n",
      "We need 12 image(s).\n",
      "There are currently 13 new selected images for this keyword.\n"
     ]
    }
   ],
   "source": [
    "label = 'cat'\n",
    "keyword_name = 'felis_domesticus'\n",
    "\n",
    "if version_string == 'v4':\n",
    "    count = keyword_counts[keyword_name]\n",
    "elif version_string == 'v6' or version_string == 'v7':\n",
    "    count = keyword_counts[label][keyword_name]\n",
    "\n",
    "existing_cifar10_indices = cifar10_by_keyword[keyword_name]\n",
    "new_imgs = all_new_imgs[keyword_name]\n",
    "\n",
    "print('Keyword \"{}\" has {} images in CIFAR-10 and {} unused images remaining in TinyImages.'.format(\n",
    "    keyword_name, len(existing_cifar10_indices), len(new_imgs)))\n",
    "print('We need {} image(s).'.format(count))\n",
    "\n",
    "# Use the subselected file if it already exists, otherwise start from the initial pool\n",
    "subselected_indices_filename = '../other_data/tinyimage_good_indices_subselected_{}.json'.format(version_string)\n",
    "if Path(subselected_indices_filename).is_file():\n",
    "    with open(subselected_indices_filename, 'r') as f:\n",
    "        good_indices_dict = json.load(f)\n",
    "else:\n",
    "    with open('../other_data/tinyimage_good_indices.json', 'r') as f:\n",
    "        good_indices_dict = json.load(f)\n",
    "\n",
    "if keyword_name in good_indices_dict:    \n",
    "    initial_cur_good_indices = set(good_indices_dict[keyword_name])\n",
    "else:\n",
    "    print('Missing indices for keyword {}'.format(keyword_name))\n",
    "\n",
    "# Remove indices that correspond to images that have l2 distance <= threshold \n",
    "# with an existing image in CIFAR-10\n",
    "threshold=1000\n",
    "cur_good_indices = []\n",
    "for idx in initial_cur_good_indices:\n",
    "    cur_distance = distances[idx][0][1]\n",
    "    if cur_distance > threshold:\n",
    "        cur_good_indices.append(idx)\n",
    "cur_good_indices = set(cur_good_indices)\n",
    "print('There are currently {} new selected images for this keyword.'.format(len(cur_good_indices)))\n"
   ]
  },
  {
   "cell_type": "markdown",
   "metadata": {},
   "source": [
    "## Existing images"
   ]
  },
  {
   "cell_type": "code",
   "execution_count": 15,
   "metadata": {
    "scrolled": false
   },
   "outputs": [
    {
     "name": "stderr",
     "output_type": "stream",
     "text": [
      "Setting up image tabs: 100%|██████████| 10/10 [00:05<00:00,  1.68it/s]\n"
     ]
    },
    {
     "data": {
      "application/vnd.jupyter.widget-view+json": {
       "model_id": "44421944729e40cfbde8a8ecad600d60",
       "version_major": 2,
       "version_minor": 0
      },
      "text/plain": [
       "Tab(children=(VBox(children=(HBox(children=(VBox(children=(Image(value=b'\\x89PNG\\r\\n\\x1a\\n\\x00\\x00\\x00\\rIHDR\\x…"
      ]
     },
     "metadata": {},
     "output_type": "display_data"
    }
   ],
   "source": [
    "num_images_to_show = len(existing_cifar10_indices)\n",
    "num_cols = 8\n",
    "num_rows = 5\n",
    "num_per_tab = num_cols * num_rows\n",
    "num_tabs = int(math.ceil(num_images_to_show / num_per_tab))\n",
    "scale=3\n",
    "\n",
    "tab_contents = []\n",
    "for kk in tqdm.tqdm(range(num_tabs), desc='Setting up image tabs'):\n",
    "    rows = []\n",
    "    cur_num_rows = num_rows\n",
    "    if kk == num_tabs - 1:\n",
    "        cur_num_rows = int(math.ceil((num_images_to_show - (num_tabs - 1) * num_per_tab) / num_cols))\n",
    "    for ii in range(cur_num_rows):\n",
    "        cur_row = []\n",
    "        cur_num_cols = num_cols\n",
    "        if kk == num_tabs - 1 and ii == cur_num_rows - 1:\n",
    "            cur_num_cols = num_images_to_show - (num_tabs - 1) * num_per_tab - (cur_num_rows - 1) * num_cols\n",
    "        for jj in range(cur_num_cols):\n",
    "            cur_index = kk * num_per_tab + ii * num_cols + jj\n",
    "            cur_cifar10_index = existing_cifar10_indices[cur_index]\n",
    "            cur_img = widgets.Image(value=utils.np_to_png(cifar.all_images[cur_cifar10_index,:,:,:], scale=scale))\n",
    "            cur_label = widgets.Label(value=str(cur_cifar10_index))\n",
    "            cur_box = widgets.VBox([cur_img, cur_label])\n",
    "            cur_box.layout.align_items = 'center'\n",
    "            cur_box.layout.padding = '6px'\n",
    "            cur_row.append(cur_box)\n",
    "        cur_hbox = widgets.HBox(cur_row)\n",
    "        rows.append(cur_hbox)\n",
    "    tab_contents.append(widgets.VBox(rows))\n",
    "\n",
    "tab = widgets.Tab()\n",
    "tab.children = tab_contents\n",
    "for i in range(len(tab.children)):\n",
    "    tab.set_title(i, str(i))\n",
    "display(tab)"
   ]
  },
  {
   "cell_type": "markdown",
   "metadata": {},
   "source": [
    "## New images"
   ]
  },
  {
   "cell_type": "code",
   "execution_count": 19,
   "metadata": {
    "scrolled": false
   },
   "outputs": [
    {
     "name": "stderr",
     "output_type": "stream",
     "text": [
      "Setting up image tabs: 100%|██████████| 1/1 [00:00<00:00,  3.72it/s]\n"
     ]
    },
    {
     "data": {
      "application/vnd.jupyter.widget-view+json": {
       "model_id": "c3ec07cf2421437bac81f02ba5bb9711",
       "version_major": 2,
       "version_minor": 0
      },
      "text/plain": [
       "Tab(children=(VBox(children=(HBox(children=(VBox(children=(Image(value=b'\\x89PNG\\r\\n\\x1a\\n\\x00\\x00\\x00\\rIHDR\\x…"
      ]
     },
     "metadata": {},
     "output_type": "display_data"
    }
   ],
   "source": [
    "num_images_to_show = len(cur_good_indices)\n",
    "img_offset = 0\n",
    "\n",
    "assert img_offset >= 0 and img_offset < len(new_imgs)\n",
    "num_images_to_show = min(num_images_to_show, len(new_imgs) - img_offset)\n",
    "num_cols = 8\n",
    "num_rows = 13\n",
    "num_per_tab = num_cols * num_rows\n",
    "num_tabs = int(math.ceil(num_images_to_show / num_per_tab))\n",
    "scale=3\n",
    "\n",
    "checkboxes = {}\n",
    "\n",
    "tab_contents = []\n",
    "for kk in tqdm.tqdm(range(num_tabs), desc='Setting up image tabs'):\n",
    "    rows = []\n",
    "    cur_num_rows = num_rows\n",
    "    if kk == num_tabs - 1:\n",
    "        cur_num_rows = int(math.ceil((num_images_to_show - (num_tabs - 1) * num_per_tab) / num_cols))\n",
    "    for ii in range(cur_num_rows):\n",
    "        cur_row = []\n",
    "        cur_num_cols = num_cols\n",
    "        if kk == num_tabs - 1 and ii == cur_num_rows - 1:\n",
    "            cur_num_cols = num_images_to_show - (num_tabs - 1) * num_per_tab - (cur_num_rows - 1) * num_cols\n",
    "        for jj in range(cur_num_cols):\n",
    "            cur_index = img_offset + kk * num_per_tab + ii * num_cols + jj\n",
    "            #cur_ti_index = new_imgs[cur_index]['tinyimage_index']\n",
    "            cur_ti_index = list(cur_good_indices)[cur_index]\n",
    "            cur_img = widgets.Image(value=utils.np_to_png(img_data[cur_ti_index], scale=scale))\n",
    "            cur_checkbox = widgets.Checkbox(cur_ti_index in cur_good_indices, description=str(cur_ti_index), indent=False, layout=widgets.Layout(width='100px', height='28')) #, description=str(ii * num_cols + jj))\n",
    "            cur_checkbox.width = '90px'\n",
    "            checkboxes[cur_ti_index] = cur_checkbox\n",
    "            cur_box = widgets.VBox([cur_img, cur_checkbox])\n",
    "            cur_box.layout.align_items = 'center'\n",
    "            cur_box.layout.padding = '6px'\n",
    "            cur_row.append(cur_box)\n",
    "        cur_hbox = widgets.HBox(cur_row)\n",
    "        rows.append(cur_hbox)\n",
    "    tab_contents.append(widgets.VBox(rows))\n",
    "\n",
    "tab = widgets.Tab()\n",
    "tab.children = tab_contents\n",
    "for i in range(len(tab.children)):\n",
    "    tab.set_title(i, str(i))\n",
    "display(tab)"
   ]
  },
  {
   "cell_type": "code",
   "execution_count": 20,
   "metadata": {
    "scrolled": true
   },
   "outputs": [
    {
     "name": "stdout",
     "output_type": "stream",
     "text": [
      "Now there now 10 selected images for keyword \"felis_domesticus\".\n"
     ]
    }
   ],
   "source": [
    "for ti_index, box in checkboxes.items():\n",
    "    if box.value:\n",
    "        cur_good_indices.add(ti_index)\n",
    "    else:\n",
    "        cur_good_indices.discard(ti_index)\n",
    "good_indices_dict[keyword_name] = list(cur_good_indices)\n",
    "print('Now there now {} selected images for keyword \"{}\".'.format(len(cur_good_indices), keyword_name))\n",
    "with open(subselected_indices_filename, 'w') as f:\n",
    "    json.dump(good_indices_dict, f, indent=2)"
   ]
  },
  {
   "cell_type": "markdown",
   "metadata": {
    "scrolled": true
   },
   "source": []
  }
 ],
 "metadata": {
  "kernelspec": {
   "display_name": "Python 3",
   "language": "python",
   "name": "python3"
  },
  "language_info": {
   "codemirror_mode": {
    "name": "ipython",
    "version": 3
   },
   "file_extension": ".py",
   "mimetype": "text/x-python",
   "name": "python",
   "nbconvert_exporter": "python",
   "pygments_lexer": "ipython3",
   "version": "3.6.4"
  }
 },
 "nbformat": 4,
 "nbformat_minor": 2
}
