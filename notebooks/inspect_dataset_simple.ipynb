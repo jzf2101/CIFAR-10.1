{
 "cells": [
  {
   "cell_type": "markdown",
   "metadata": {},
   "source": [
    "# A simple notebook to browse the CIFAR-10.1 dataset\n",
    "\n",
    "The following cell contains setup code."
   ]
  },
  {
   "cell_type": "code",
   "execution_count": 2,
   "metadata": {},
   "outputs": [],
   "source": [
    "%matplotlib inline\n",
    "%load_ext autoreload\n",
    "%autoreload 2\n",
    "\n",
    "import math\n",
    "import os\n",
    "import random\n",
    "import sys\n",
    "\n",
    "repo_root = os.path.join(os.getcwd(), '../code')\n",
    "sys.path.append(repo_root)\n",
    "\n",
    "from IPython.display import display\n",
    "from ipywidgets import Layout\n",
    "from ipywidgets import widgets\n",
    "from matplotlib import pyplot as plt\n",
    "import numpy as np\n",
    "import tqdm\n",
    "\n",
    "import utils\n",
    "\n",
    "cifar_label_names = utils.cifar10_label_names"
   ]
  },
  {
   "cell_type": "markdown",
   "metadata": {},
   "source": [
    "# Loading the dataset\n",
    "\n",
    "There are two versions of the CIFAR-10.1 dataset:\n",
    "- `v6` is the recommended dataset for future experiments and corresponds to the results in Appendix D of our paper.\n",
    "- `v4` is the first version of our dataset. The numbers reported in the main section of our paper use this dataset.\n",
    "\n",
    "Passing the respective string to `utils.load_new_test_data` loads the corresponding version of our dataset.\n",
    "\n",
    "The loading code in `utils.py` is simple and mainly consists of two calls two `np.load`."
   ]
  },
  {
   "cell_type": "code",
   "execution_count": 3,
   "metadata": {},
   "outputs": [
    {
     "name": "stdout",
     "output_type": "stream",
     "text": [
      "\n",
      "Loaded version \"v4\" of the CIFAR-10.1 dataset.\n",
      "There are 2021 images in the dataset.\n"
     ]
    }
   ],
   "source": [
    "version = 'v4'\n",
    "images, labels = utils.load_new_test_data(version)\n",
    "num_images = images.shape[0]\n",
    "\n",
    "print('\\nLoaded version \"{}\" of the CIFAR-10.1 dataset.'.format(version))\n",
    "print('There are {} images in the dataset.'.format(num_images))"
   ]
  },
  {
   "cell_type": "markdown",
   "metadata": {},
   "source": [
    "# Browse the new dataset\n",
    "\n",
    "Execute the following cell to browse the images in the dataset.\n",
    "\n",
    "By default, the cell shows the first 400 images. You can change which 400 images to show by setting `image_offset` at the beginning of the cell appropriately."
   ]
  },
  {
   "cell_type": "code",
   "execution_count": 5,
   "metadata": {
    "scrolled": false
   },
   "outputs": [
    {
     "name": "stderr",
     "output_type": "stream",
     "text": [
      "Setting up image tabs: 100%|██████████| 4/4 [00:06<00:00,  1.52s/it]\n"
     ]
    },
    {
     "data": {
      "application/vnd.jupyter.widget-view+json": {
       "model_id": "4ec5d125621846a1a0f71f6047e39b0d",
       "version_major": 2,
       "version_minor": 0
      },
      "text/plain": [
       "Tab(children=(VBox(children=(HBox(children=(VBox(children=(Image(value=b'\\x89PNG\\r\\n\\x1a\\n\\x00\\x00\\x00\\rIHDR\\x…"
      ]
     },
     "metadata": {},
     "output_type": "display_data"
    }
   ],
   "source": [
    "# Set this to determine which image to start with\n",
    "image_offset = 0\n",
    "\n",
    "num_images_to_show = min(len(labels) - image_offset, 400)\n",
    "num_cols = 8\n",
    "num_rows = 13\n",
    "num_per_tab = num_cols * num_rows\n",
    "num_tabs = int(math.ceil(num_images_to_show / num_per_tab))\n",
    "scale = 3\n",
    "\n",
    "tab_contents = []\n",
    "for kk in tqdm.tqdm(range(num_tabs), desc='Setting up image tabs'):\n",
    "    rows = []\n",
    "    cur_num_rows = num_rows\n",
    "    if kk == num_tabs - 1:\n",
    "        cur_num_rows = int(math.ceil((num_images_to_show - (num_tabs - 1) * num_per_tab) / num_cols))\n",
    "    for ii in range(cur_num_rows):\n",
    "        cur_row = []\n",
    "        cur_num_cols = num_cols\n",
    "        if kk == num_tabs - 1 and ii == cur_num_rows - 1:\n",
    "            cur_num_cols = num_images_to_show - (num_tabs - 1) * num_per_tab - (cur_num_rows - 1) * num_cols\n",
    "        for jj in range(cur_num_cols):\n",
    "            cur_index = kk * num_per_tab + ii * num_cols + jj\n",
    "            cur_img = widgets.Image(value=utils.np_to_png(images[cur_index + image_offset,:,:,:], scale=scale))\n",
    "            cur_class = labels[cur_index + image_offset]\n",
    "            cur_label = widgets.Label(value=cifar_label_names[cur_class] + '  (' + str(cur_index + image_offset) + ')')\n",
    "            cur_box = widgets.VBox([cur_img, cur_label])\n",
    "            cur_box.layout.align_items = 'center'\n",
    "            cur_box.layout.padding = '6px'\n",
    "            cur_row.append(cur_box)\n",
    "        cur_hbox = widgets.HBox(cur_row)\n",
    "        rows.append(cur_hbox)\n",
    "    tab_contents.append(widgets.VBox(rows))\n",
    "\n",
    "tab = widgets.Tab()\n",
    "tab.children = tab_contents\n",
    "for i in range(len(tab.children)):\n",
    "    tab.set_title(i, str(i))\n",
    "display(tab)"
   ]
  },
  {
   "cell_type": "markdown",
   "metadata": {},
   "source": [
    "# Look at the image for a given index\n",
    "\n",
    "When working with the CIFAR-10.1 dataset, the following code snippet might be useful.\n",
    "It simply shows the image and class for a given index (and we use a random index as a default here)."
   ]
  },
  {
   "cell_type": "code",
   "execution_count": 6,
   "metadata": {},
   "outputs": [
    {
     "data": {
      "image/png": "[encoded data removed]",
      "text/plain": [
       "<matplotlib.figure.Figure at 0x113d3d588>"
      ]
     },
     "metadata": {},
     "output_type": "display_data"
    },
    {
     "name": "stdout",
     "output_type": "stream",
     "text": [
      "Class \"horse\"\n"
     ]
    }
   ],
   "source": [
    "image_index = random.randrange(num_images)\n",
    "plt.figure()\n",
    "plt.imshow(images[image_index,:,:,:])\n",
    "plt.show()\n",
    "\n",
    "print('Class \"{}\"'.format(cifar_label_names[labels[image_index]]))"
   ]
  },
  {
   "cell_type": "code",
   "execution_count": null,
   "metadata": {},
   "outputs": [],
   "source": []
  }
 ],
 "metadata": {
  "kernelspec": {
   "display_name": "Python 3",
   "language": "python",
   "name": "python3"
  },
  "language_info": {
   "codemirror_mode": {
    "name": "ipython",
    "version": 3
   },
   "file_extension": ".py",
   "mimetype": "text/x-python",
   "name": "python",
   "nbconvert_exporter": "python",
   "pygments_lexer": "ipython3",
   "version": "3.6.4"
  }
 },
 "nbformat": 4,
 "nbformat_minor": 2
}
