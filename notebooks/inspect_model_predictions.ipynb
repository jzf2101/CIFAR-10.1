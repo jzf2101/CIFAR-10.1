{
 "cells": [
  {
   "cell_type": "markdown",
   "metadata": {},
   "source": [
    "# Inspect Model Predictions\n",
    "\n",
    "This notebook explores the model predictions made on the new test set.  The following cell contains setup code."
   ]
  },
  {
   "cell_type": "code",
   "execution_count": 7,
   "metadata": {},
   "outputs": [
    {
     "name": "stdout",
     "output_type": "stream",
     "text": [
      "The autoreload extension is already loaded. To reload it, use:\n",
      "  %reload_ext autoreload\n"
     ]
    }
   ],
   "source": [
    "%load_ext autoreload\n",
    "%autoreload 2\n",
    "\n",
    "import json\n",
    "import math\n",
    "import pickle\n",
    "import random\n",
    "\n",
    "from IPython.display import display\n",
    "from ipywidgets import widgets\n",
    "from ipywidgets import Layout\n",
    "import numpy as np\n",
    "import pandas as pd\n",
    "\n",
    "import qgrid\n",
    "import tqdm\n",
    "import sys\n",
    "import os\n",
    "\n",
    "repo_root = os.path.join(os.getcwd(), '../code')\n",
    "sys.path.append(repo_root)\n",
    "\n",
    "import tinyimages\n",
    "import utils\n",
    "import cifar10"
   ]
  },
  {
   "cell_type": "code",
   "execution_count": 8,
   "metadata": {},
   "outputs": [
    {
     "data": {
      "application/vnd.jupyter.widget-view+json": {
       "model_id": "9d5ebace73f44d87ad1fe305486a3964",
       "version_major": 2,
       "version_minor": 0
      },
      "text/plain": [
       "QgridWidget(grid_options={'fullWidthRows': True, 'syncColumnCellResize': True, 'forceFitColumns': True, 'defau…"
      ]
     },
     "metadata": {},
     "output_type": "display_data"
    }
   ],
   "source": [
    "version = '4'\n",
    "df = utils.get_prediction_dataframe(version)\n",
    "qgrid_widget = qgrid.show_grid(df, precision=2, grid_options={'maxVisibleRows': 30})\n",
    "qgrid_widget"
   ]
  },
  {
   "cell_type": "markdown",
   "metadata": {},
   "source": [
    "## Accuracy per class"
   ]
  },
  {
   "cell_type": "code",
   "execution_count": 9,
   "metadata": {},
   "outputs": [
    {
     "data": {
      "application/vnd.jupyter.widget-view+json": {
       "model_id": "7c041c25331247b0b7d6fd70f12b0529",
       "version_major": 2,
       "version_minor": 0
      },
      "text/plain": [
       "QgridWidget(grid_options={'fullWidthRows': True, 'syncColumnCellResize': True, 'forceFitColumns': True, 'defau…"
      ]
     },
     "metadata": {},
     "output_type": "display_data"
    }
   ],
   "source": [
    "orig_test_indices_by_class = []\n",
    "new_test_indices_by_class = []\n",
    "\n",
    "orig_per_class_accuracies = {}\n",
    "new_per_class_accuracies = {}\n",
    "num_classes = len(utils.cifar10_label_names)\n",
    "cifar = cifar10.CIFAR10Data('../other_data/cifar10')\n",
    "cifar_label_names = utils.cifar10_label_names\n",
    "original_test_labels = cifar.eval_labels\n",
    "_, new_true_labels = utils.load_new_test_data(version)\n",
    "model_names = utils.get_model_names()\n",
    "original_predictions = utils.get_original_predictions()\n",
    "new_predictions = utils.get_new_predictions(version)\n",
    "\n",
    "# init\n",
    "for ii in range(num_classes):\n",
    "    orig_test_indices_by_class.append([])\n",
    "    new_test_indices_by_class.append([])\n",
    "\n",
    "# get indices for each class\n",
    "for ii in range(len(original_test_labels)):\n",
    "    orig_test_indices_by_class[original_test_labels[ii]].append(ii)\n",
    "\n",
    "for ii in range(len(new_true_labels)):\n",
    "    new_test_indices_by_class[new_true_labels[ii]].append(ii)\n",
    "\n",
    "\n",
    "for m in model_names:\n",
    "    cur_orig_accuracies = np.zeros(10)\n",
    "    cur_new_accuracies = np.zeros(10)\n",
    "    for ii in range(num_classes):\n",
    "        cur_orig_accuracies[ii] = utils.compute_accuracy(original_predictions[m][orig_test_indices_by_class[ii]],\n",
    "                                                   original_test_labels[orig_test_indices_by_class[ii]])\n",
    "        cur_new_accuracies[ii] = utils.compute_accuracy(new_predictions[m][new_test_indices_by_class[ii]],\n",
    "                                                  new_true_labels[new_test_indices_by_class[ii]])\n",
    "    orig_per_class_accuracies[m] = cur_orig_accuracies\n",
    "    new_per_class_accuracies[m] = cur_new_accuracies\n",
    "\n",
    "\n",
    "pd_data_orig_class_accuracy = {}\n",
    "for m in model_names:\n",
    "    cur_dict = {}\n",
    "    pd_data_orig_class_accuracy[m] = cur_dict\n",
    "    for ii, c in enumerate(cifar_label_names):\n",
    "        cur_dict[c] = 100.0 * orig_per_class_accuracies[m][ii]\n",
    "\n",
    "df_data_orig_class_accuracy = pd.DataFrame(pd_data_orig_class_accuracy).transpose()\n",
    "    \n",
    "qgrid_widget_orig = qgrid.show_grid(df_data_orig_class_accuracy, precision=2, grid_options={'maxVisibleRows': 30})\n",
    "qgrid_widget_orig"
   ]
  },
  {
   "cell_type": "code",
   "execution_count": 10,
   "metadata": {},
   "outputs": [
    {
     "data": {
      "application/vnd.jupyter.widget-view+json": {
       "model_id": "320852979d024dee952867554b36ae8c",
       "version_major": 2,
       "version_minor": 0
      },
      "text/plain": [
       "QgridWidget(grid_options={'fullWidthRows': True, 'syncColumnCellResize': True, 'forceFitColumns': True, 'defau…"
      ]
     },
     "metadata": {},
     "output_type": "display_data"
    }
   ],
   "source": [
    "pd_data_new_class_accuracy = {}\n",
    "for m in model_names:\n",
    "    cur_dict = {}\n",
    "    pd_data_new_class_accuracy[m] = cur_dict\n",
    "    for ii, c in enumerate(cifar_label_names):\n",
    "        cur_dict[c] = 100.0 * new_per_class_accuracies[m][ii]\n",
    "\n",
    "df_data_new_class_accuracy = pd.DataFrame(pd_data_new_class_accuracy).transpose()\n",
    "    \n",
    "qgrid_widget_new = qgrid.show_grid(df_data_new_class_accuracy, precision=2, grid_options={'maxVisibleRows': 30})\n",
    "qgrid_widget_new"
   ]
  },
  {
   "cell_type": "code",
   "execution_count": 11,
   "metadata": {},
   "outputs": [
    {
     "data": {
      "application/vnd.jupyter.widget-view+json": {
       "model_id": "68fb03cf0c7d4d25a5059a04a30a4be6",
       "version_major": 2,
       "version_minor": 0
      },
      "text/plain": [
       "QgridWidget(grid_options={'fullWidthRows': True, 'syncColumnCellResize': True, 'forceFitColumns': True, 'defau…"
      ]
     },
     "metadata": {},
     "output_type": "display_data"
    }
   ],
   "source": [
    "pd_data_diff_class_accuracy = {}\n",
    "for m in model_names:\n",
    "    cur_dict = {}\n",
    "    pd_data_diff_class_accuracy[m] = cur_dict\n",
    "    for ii, c in enumerate(cifar_label_names):\n",
    "        cur_dict[c] = 100.0 * (orig_per_class_accuracies[m][ii] - new_per_class_accuracies[m][ii])\n",
    "\n",
    "df_data_diff_class_accuracy = pd.DataFrame(pd_data_diff_class_accuracy).transpose()\n",
    "    \n",
    "qgrid_widget_diff = qgrid.show_grid(df_data_diff_class_accuracy, precision=2, grid_options={'maxVisibleRows': 30})\n",
    "qgrid_widget_diff"
   ]
  },
  {
   "cell_type": "code",
   "execution_count": 12,
   "metadata": {},
   "outputs": [
    {
     "name": "stdout",
     "output_type": "stream",
     "text": [
      "Number of included original test images: 8000\n",
      "Number of included new test images: 1601\n"
     ]
    },
    {
     "data": {
      "application/vnd.jupyter.widget-view+json": {
       "model_id": "27a75cd9c33a48d4af303beff29370be",
       "version_major": 2,
       "version_minor": 0
      },
      "text/plain": [
       "QgridWidget(grid_options={'fullWidthRows': True, 'syncColumnCellResize': True, 'forceFitColumns': True, 'defau…"
      ]
     },
     "metadata": {},
     "output_type": "display_data"
    }
   ],
   "source": [
    "classes_to_exclude = ['airplane', 'automobile']\n",
    "\n",
    "orig_test_indices_included = []\n",
    "new_test_indices_included = []\n",
    "for ii in range(num_classes):\n",
    "    if cifar_label_names[ii] not in classes_to_exclude:\n",
    "        orig_test_indices_included.extend(orig_test_indices_by_class[ii])\n",
    "        new_test_indices_included.extend(new_test_indices_by_class[ii])\n",
    "\n",
    "print('Number of included original test images: {}'.format(len(orig_test_indices_included)))\n",
    "print('Number of included new test images: {}'.format(len(new_test_indices_included)))\n",
    "\n",
    "pd_data_partial = {}\n",
    "for m in model_names:\n",
    "    cur_dict = {}\n",
    "    pd_data_partial[m] = cur_dict\n",
    "    cur_dict['new_accuracy'] = 100 * utils.compute_accuracy(new_predictions[m][new_test_indices_included],\n",
    "                                                      new_true_labels[new_test_indices_included])\n",
    "    cur_dict['orig_accuracy'] = 100 * utils.compute_accuracy(original_predictions[m][orig_test_indices_included],\n",
    "                                                       original_test_labels[orig_test_indices_included])\n",
    "    cur_dict['gap'] = cur_dict['orig_accuracy'] - cur_dict['new_accuracy']\n",
    "    cur_dict['orig_error'] = 100 - cur_dict['orig_accuracy']\n",
    "    cur_dict['new_error'] = 100 - cur_dict['new_accuracy']\n",
    "    cur_dict['error_ratio'] = cur_dict['new_error'] / cur_dict['orig_error']\n",
    "\n",
    "df_partial = pd.DataFrame(pd_data_partial).transpose()[['orig_accuracy', 'new_accuracy', 'gap', 'orig_error', 'new_error', 'error_ratio']]\n",
    "    \n",
    "qgrid_widget = qgrid.show_grid(df_partial, precision=2, grid_options={'maxVisibleRows': 30})\n",
    "qgrid_widget"
   ]
  },
  {
   "cell_type": "code",
   "execution_count": null,
   "metadata": {},
   "outputs": [],
   "source": []
  }
 ],
 "metadata": {
  "kernelspec": {
   "display_name": "Python 3",
   "language": "python",
   "name": "python3"
  },
  "language_info": {
   "codemirror_mode": {
    "name": "ipython",
    "version": 3
   },
   "file_extension": ".py",
   "mimetype": "text/x-python",
   "name": "python",
   "nbconvert_exporter": "python",
   "pygments_lexer": "ipython3",
   "version": "3.6.4"
  }
 },
 "nbformat": 4,
 "nbformat_minor": 2
}
